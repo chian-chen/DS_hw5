{
  "nbformat": 4,
  "nbformat_minor": 0,
  "metadata": {
    "colab": {
      "provenance": []
    },
    "kernelspec": {
      "name": "python3",
      "display_name": "Python 3"
    },
    "language_info": {
      "name": "python"
    }
  },
  "cells": [
    {
      "cell_type": "code",
      "execution_count": 58,
      "metadata": {
        "id": "RQVQnZ-VHwdk"
      },
      "outputs": [],
      "source": [
        "# Reference: https://www.freecodecamp.org/news/svm-machine-learning-tutorial-what-is-the-support-vector-machine-algorithm-explained-with-code-examples/\n",
        "\n",
        "import numpy as np\n",
        "\n",
        "from sklearn import svm\n",
        "import matplotlib.pyplot as plt"
      ]
    },
    {
      "cell_type": "markdown",
      "source": [
        "## Data"
      ],
      "metadata": {
        "id": "gXpATJcfWhWy"
      }
    },
    {
      "cell_type": "code",
      "source": [
        "# Positive samples, y = 1: (4, 3), (4, 8), (7, 2)\n",
        "# Negative samples, y = -1: (-1, -2), (-1, 3), (2, -1), (2, 1).\n",
        "\n",
        "X = [[4, 3], [4, 8], [7, 2], [-1, -2], [-1, 3], [2, -1], [2, 1]]\n",
        "Y = [1, 1, 1, -1, -1, -1, -1]"
      ],
      "metadata": {
        "id": "gxefke-oIN2w"
      },
      "execution_count": 59,
      "outputs": []
    },
    {
      "cell_type": "markdown",
      "source": [
        "## SVM"
      ],
      "metadata": {
        "id": "N_VG2k_fWkDL"
      }
    },
    {
      "cell_type": "code",
      "source": [
        "clf = svm.SVC(kernel = 'linear')\n",
        "clf.fit(X, Y)"
      ],
      "metadata": {
        "colab": {
          "base_uri": "https://localhost:8080/"
        },
        "id": "eQwztzwkIwhG",
        "outputId": "a448ee19-90bd-454f-8764-c176315421bb"
      },
      "execution_count": 60,
      "outputs": [
        {
          "output_type": "execute_result",
          "data": {
            "text/plain": [
              "SVC(kernel='linear')"
            ]
          },
          "metadata": {},
          "execution_count": 60
        }
      ]
    },
    {
      "cell_type": "markdown",
      "source": [
        "## Plot the result"
      ],
      "metadata": {
        "id": "Ze4NqeJtWqTz"
      }
    },
    {
      "cell_type": "code",
      "source": [
        "# get the weight values for the linear equation from the trained SVM model\n",
        "w = clf.coef_[0]\n",
        "\n",
        "# get the y-offset for the linear equation\n",
        "a = -w[0] / w[1]\n",
        "\n",
        "# make the x-axis space for the data points\n",
        "XX = np.linspace(-2, 8)\n",
        "\n",
        "# get the y-values to plot the decision boundary\n",
        "yy = a * XX - clf.intercept_[0] / w[1]\n",
        "\n",
        "# plot the decision boundary\n",
        "plt.plot(XX, yy, 'g')\n",
        "\n",
        "# show the plot visually\n",
        "dots = np.vstack(X)\n",
        "plt.scatter(dots[:, 0], dots[:, 1], c = Y)\n",
        "\n",
        "plt.legend()\n",
        "plt.show()"
      ],
      "metadata": {
        "colab": {
          "base_uri": "https://localhost:8080/",
          "height": 282
        },
        "id": "f54eW9rmLS-d",
        "outputId": "b65d3918-efb6-4164-e687-b346861fb6a5"
      },
      "execution_count": 62,
      "outputs": [
        {
          "output_type": "stream",
          "name": "stderr",
          "text": [
            "WARNING:matplotlib.legend:No handles with labels found to put in legend.\n"
          ]
        },
        {
          "output_type": "display_data",
          "data": {
            "text/plain": [
              "<Figure size 432x288 with 1 Axes>"
            ],
            "image/png": "[encoded data removed]"
          },
          "metadata": {
            "needs_background": "light"
          }
        }
      ]
    },
    {
      "cell_type": "markdown",
      "source": [
        "## Print some parameters"
      ],
      "metadata": {
        "id": "blDUe82xWvIE"
      }
    },
    {
      "cell_type": "code",
      "source": [
        "print(clf.coef_)\n",
        "print(clf.intercept_)\n",
        "print(clf.support_vectors_)\n",
        "\n",
        "w = clf.coef_[0]\n",
        "b = clf.intercept_[0]\n",
        "print(w)\n",
        "print(b)"
      ],
      "metadata": {
        "colab": {
          "base_uri": "https://localhost:8080/"
        },
        "id": "R23jbBwsMIT9",
        "outputId": "af2d5c2e-0f1d-425d-9e58-f9f201f6ced2"
      },
      "execution_count": 57,
      "outputs": [
        {
          "output_type": "stream",
          "name": "stdout",
          "text": [
            "[[0.5 0.5]]\n",
            "[-2.5]\n",
            "[[2. 1.]\n",
            " [4. 3.]]\n",
            "[0.5 0.5]\n",
            "-2.5\n"
          ]
        }
      ]
    }
  ]
}